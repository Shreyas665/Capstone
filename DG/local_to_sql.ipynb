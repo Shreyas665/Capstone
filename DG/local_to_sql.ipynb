{
 "cells": [
  {
   "cell_type": "code",
   "execution_count": 3,
   "id": "d7cda594-c97c-4c42-abde-fe01c2401ed2",
   "metadata": {
    "scrolled": true
   },
   "outputs": [
    {
     "name": "stdout",
     "output_type": "stream",
     "text": [
      "Inserting leave_records.csv into table `leave_records`...\n",
      "Inserting departments.csv into table `departments`...\n",
      "Inserting job_roles.csv into table `job_roles`...\n",
      "Inserting attendance_logs.csv into table `attendance_logs`...\n",
      "Inserting productivity.csv into table `productivity`...\n",
      "Inserting projects.csv into table `projects`...\n",
      "Inserting employees.csv into table `employees`...\n",
      "Inserting locations.csv into table `locations`...\n",
      "Inserting leave_types.csv into table `leave_types`...\n"
     ]
    }
   ],
   "source": [
    "import os\n",
    "import pandas as pd\n",
    "import urllib.parse\n",
    "from sqlalchemy import create_engine\n",
    "\n",
    "# DB connection config\n",
    "db_user = \"root\"\n",
    "db_password = urllib.parse.quote_plus(\"root@123\")\n",
    "db_host = \"34.93.42.89\"\n",
    "db_name = \"capstone\"\n",
    "\n",
    "# Path where CSVs are stored\n",
    "csv_folder = '/home/nineleaps/Downloads/Capstone/DG'\n",
    "\n",
    "# Connect to MySQL\n",
    "engine = create_engine(f\"mysql+pymysql://{db_user}:{db_password}@{db_host}/{db_name}\")\n",
    "\n",
    "# List all CSV files\n",
    "for file_name in os.listdir(csv_folder):\n",
    "    if file_name.endswith(\".csv\"):\n",
    "        table_name = os.path.splitext(file_name)[0]  # Remove .csv extension\n",
    "        file_path = os.path.join(csv_folder, file_name)\n",
    "\n",
    "        # Load and write to MySQL\n",
    "        print(f\"Inserting {file_name} into table `{table_name}`...\")\n",
    "        df = pd.read_csv(file_path)\n",
    "        df.to_sql(name=table_name, con=engine, if_exists=\"append\", index=False)\n"
   ]
  }
 ],
 "metadata": {
  "kernelspec": {
   "display_name": "Python 3 (ipykernel)",
   "language": "python",
   "name": "python3"
  },
  "language_info": {
   "codemirror_mode": {
    "name": "ipython",
    "version": 3
   },
   "file_extension": ".py",
   "mimetype": "text/x-python",
   "name": "python",
   "nbconvert_exporter": "python",
   "pygments_lexer": "ipython3",
   "version": "3.10.12"
  }
 },
 "nbformat": 4,
 "nbformat_minor": 5
}
